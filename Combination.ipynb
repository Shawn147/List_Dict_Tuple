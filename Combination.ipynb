{
 "cells": [
  {
   "cell_type": "markdown",
   "metadata": {},
   "source": [
    "# list puple dictionaries in list"
   ]
  },
  {
   "cell_type": "code",
   "execution_count": 1,
   "metadata": {},
   "outputs": [],
   "source": [
    "dict1={\"Asia\" : \"Pakistan\",\"Europe\" : \"Italy\"}\n",
    "arr1=[\"China\",\"Japan\"]\n",
    "ppl1 = (\"Italy\",\"Spain\",dict1,arr1)\n",
    "\n",
    "dict2={\"Asia\" : \"Pakistan\",\"Europe\" : \"Italy\"}\n",
    "ppl2 = (\"Italy\",\"Spain\")\n",
    "arr2=[\"China\",\"Japan\",dict2,ppl2]\n",
    "\n",
    "\n",
    "ppl3= (\"Italy\",\"Spain\")\n",
    "arr3= [\"China\",\"Japan\"]\n",
    "dict3={\"Asia\" : ppl3,\"Europe\" : arr3}\n",
    "\n",
    "\n",
    "\n",
    "\n",
    "\n",
    "\n",
    "myppl1 = (dict1,arr1,ppl1);\n",
    "myarr2 = [dict2,ppl2,arr2]\n",
    "mydict3 = {\"ppl4\" : ppl3,\n",
    "           \"arr4\" : arr3,\n",
    "          \"dict4\" : dict3}\n",
    "\n",
    "\n"
   ]
  },
  {
   "cell_type": "markdown",
   "metadata": {},
   "source": [
    "# Pupple Combinations"
   ]
  },
  {
   "cell_type": "code",
   "execution_count": 2,
   "metadata": {},
   "outputs": [
    {
     "data": {
      "text/plain": [
       "('Italy', 'Spain', {'Asia': 'Pakistan', 'Europe': 'Italy'}, ['China', 'Japan'])"
      ]
     },
     "execution_count": 2,
     "metadata": {},
     "output_type": "execute_result"
    }
   ],
   "source": [
    "myppl1[2]"
   ]
  },
  {
   "cell_type": "code",
   "execution_count": 3,
   "metadata": {},
   "outputs": [
    {
     "name": "stdout",
     "output_type": "stream",
     "text": [
      "Pakistan\n",
      "Japan\n"
     ]
    }
   ],
   "source": [
    "print(myppl1[2][2][\"Asia\"]) # this is how we treat puppil\n",
    "print(myppl1[2][3][1])"
   ]
  },
  {
   "cell_type": "markdown",
   "metadata": {},
   "source": [
    "# List Combinations"
   ]
  },
  {
   "cell_type": "code",
   "execution_count": 4,
   "metadata": {},
   "outputs": [
    {
     "data": {
      "text/plain": [
       "['China', 'Japan', {'Asia': 'Pakistan', 'Europe': 'Italy'}, ('Italy', 'Spain')]"
      ]
     },
     "execution_count": 4,
     "metadata": {},
     "output_type": "execute_result"
    }
   ],
   "source": [
    "myarr2[2]"
   ]
  },
  {
   "cell_type": "code",
   "execution_count": 5,
   "metadata": {},
   "outputs": [
    {
     "name": "stdout",
     "output_type": "stream",
     "text": [
      "Pakistan\n",
      "Spain\n"
     ]
    }
   ],
   "source": [
    "print(myarr2[2][2][\"Asia\"]) # this is how we treat arrays[list]\n",
    "print(myarr2[2][3][1])"
   ]
  },
  {
   "cell_type": "markdown",
   "metadata": {},
   "source": [
    "# dictionaries combination"
   ]
  },
  {
   "cell_type": "code",
   "execution_count": 6,
   "metadata": {},
   "outputs": [
    {
     "data": {
      "text/plain": [
       "{'Asia': ('Italy', 'Spain'), 'Europe': ['China', 'Japan']}"
      ]
     },
     "execution_count": 6,
     "metadata": {},
     "output_type": "execute_result"
    }
   ],
   "source": [
    "mydict3[\"dict4\"]"
   ]
  },
  {
   "cell_type": "code",
   "execution_count": 7,
   "metadata": {},
   "outputs": [
    {
     "name": "stdout",
     "output_type": "stream",
     "text": [
      "Italy\n",
      "Japan\n"
     ]
    }
   ],
   "source": [
    "print(mydict3[\"dict4\"][\"Asia\"][0]) # this is how we treat dictionaries\n",
    "print(mydict3[\"dict4\"][\"Europe\"][1])"
   ]
  },
  {
   "cell_type": "code",
   "execution_count": null,
   "metadata": {},
   "outputs": [],
   "source": []
  }
 ],
 "metadata": {
  "kernelspec": {
   "display_name": "Python 3",
   "language": "python",
   "name": "python3"
  },
  "language_info": {
   "codemirror_mode": {
    "name": "ipython",
    "version": 3
   },
   "file_extension": ".py",
   "mimetype": "text/x-python",
   "name": "python",
   "nbconvert_exporter": "python",
   "pygments_lexer": "ipython3",
   "version": "3.7.3"
  }
 },
 "nbformat": 4,
 "nbformat_minor": 2
}
